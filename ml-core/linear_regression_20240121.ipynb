{
 "cells": [
  {
   "cell_type": "markdown",
   "metadata": {},
   "source": [
    "# What's the difference between L1, L2, Elastic Net Regularization:\n",
    "\n",
    "- For `LinearRegression`, use `Ridge` (L2) or `Lasso` (L1) from `sklearn`\n",
    "- For classification regression algos, such as `LogisticRegression`, use the penalty hyperparameter\n"
   ]
  },
  {
   "cell_type": "markdown",
   "metadata": {},
   "source": [
    "## Exercise: Linear Regression with Regularization\n",
    "\n",
    "- Use SKLearn Diabetes dataset\n",
    "- Automate using GridSearchCV\n",
    "- [Metrics docs](https://scikit-learn.org/stable/modules/model_evaluation.html)\n",
    "\n",
    "_Standard Deviation is the sq root of Variance_\n"
   ]
  },
  {
   "cell_type": "code",
   "execution_count": 12,
   "metadata": {},
   "outputs": [],
   "source": [
    "from sklearn.datasets import load_diabetes\n",
    "from sklearn.model_selection import GridSearchCV, train_test_split\n",
    "from sklearn.linear_model import LinearRegression, Lasso, Ridge\n",
    "from sklearn.metrics import mean_squared_error, r2_score\n",
    "import pandas as pd"
   ]
  },
  {
   "cell_type": "code",
   "execution_count": 11,
   "metadata": {},
   "outputs": [
    {
     "name": "stdout",
     "output_type": "stream",
     "text": [
      ".. _diabetes_dataset:\n",
      "\n",
      "Diabetes dataset\n",
      "----------------\n",
      "\n",
      "Ten baseline variables, age, sex, body mass index, average blood\n",
      "pressure, and six blood serum measurements were obtained for each of n =\n",
      "442 diabetes patients, as well as the response of interest, a\n",
      "quantitative measure of disease progression one year after baseline.\n",
      "\n",
      "**Data Set Characteristics:**\n",
      "\n",
      "  :Number of Instances: 442\n",
      "\n",
      "  :Number of Attributes: First 10 columns are numeric predictive values\n",
      "\n",
      "  :Target: Column 11 is a quantitative measure of disease progression one year after baseline\n",
      "\n",
      "  :Attribute Information:\n",
      "      - age     age in years\n",
      "      - sex\n",
      "      - bmi     body mass index\n",
      "      - bp      average blood pressure\n",
      "      - s1      tc, total serum cholesterol\n",
      "      - s2      ldl, low-density lipoproteins\n",
      "      - s3      hdl, high-density lipoproteins\n",
      "      - s4      tch, total cholesterol / HDL\n",
      "      - s5      ltg, possibly log of serum triglycerides level\n",
      "      - s6      glu, blood sugar level\n",
      "\n",
      "Note: Each of these 10 feature variables have been mean centered and scaled by the standard deviation times the square root of `n_samples` (i.e. the sum of squares of each column totals 1).\n",
      "\n",
      "Source URL:\n",
      "https://www4.stat.ncsu.edu/~boos/var.select/diabetes.html\n",
      "\n",
      "For more information see:\n",
      "Bradley Efron, Trevor Hastie, Iain Johnstone and Robert Tibshirani (2004) \"Least Angle Regression,\" Annals of Statistics (with discussion), 407-499.\n",
      "(https://web.stanford.edu/~hastie/Papers/LARS/LeastAngle_2002.pdf)\n",
      "\n"
     ]
    }
   ],
   "source": [
    "diab = load_diabetes()\n",
    "print(diab.DESCR)"
   ]
  },
  {
   "cell_type": "code",
   "execution_count": 14,
   "metadata": {},
   "outputs": [
    {
     "name": "stdout",
     "output_type": "stream",
     "text": [
      "dict_keys(['data', 'target', 'frame', 'DESCR', 'feature_names', 'data_filename', 'target_filename', 'data_module'])\n"
     ]
    }
   ],
   "source": [
    "print(diab.keys())"
   ]
  },
  {
   "cell_type": "code",
   "execution_count": 16,
   "metadata": {},
   "outputs": [],
   "source": [
    "# Define X and y\n",
    "X = pd.DataFrame(diab.data, columns=diab.feature_names)\n",
    "y = diab.target"
   ]
  },
  {
   "cell_type": "code",
   "execution_count": 17,
   "metadata": {},
   "outputs": [],
   "source": [
    "X_train, X_test, y_train, y_test = train_test_split(\n",
    "    X, y, test_size=0.2, random_state=20\n",
    ")"
   ]
  },
  {
   "cell_type": "code",
   "execution_count": 19,
   "metadata": {},
   "outputs": [],
   "source": [
    "# Define my models and their parameters\n",
    "models_params = [\n",
    "    {\"name\": \"LinearRegression\", \"model\": LinearRegression()},\n",
    "    {\"name\": \"Ridge\", \"model\": Ridge(), \"params\": {\"alpha\": [0.1, 1, 10, 100]}},\n",
    "    {\"name\": \"Lasso\", \"model\": Lasso(), \"params\": {\"alpha\": [0.1, 1, 10, 100]}},\n",
    "]"
   ]
  },
  {
   "cell_type": "code",
   "execution_count": 20,
   "metadata": {},
   "outputs": [
    {
     "name": "stdout",
     "output_type": "stream",
     "text": [
      "{'name': 'LinearRegression', 'model': LinearRegression()}\n",
      "{'name': 'Ridge', 'model': Ridge(), 'params': {'alpha': [0.1, 1, 10, 100]}}\n",
      "{'name': 'Lasso', 'model': Lasso(), 'params': {'alpha': [0.1, 1, 10, 100]}}\n"
     ]
    }
   ],
   "source": [
    "for model_info in models_params:\n",
    "    print(model_info)"
   ]
  },
  {
   "cell_type": "code",
   "execution_count": 37,
   "metadata": {},
   "outputs": [
    {
     "name": "stdout",
     "output_type": "stream",
     "text": [
      "/// LinearRegression ///\n",
      "Best params: {}\n",
      "Mean Squared Error (Test): 3461.6628 | (Train): 2726.9049\n",
      "R-Squaraed (Test): 0.4180 | (Train): 0.5372\n",
      "/// Ridge ///\n",
      "Best params: {'alpha': 0.1}\n",
      "Mean Squared Error (Test): 3359.8140 | (Train): 2780.5338\n",
      "R-Squaraed (Test): 0.4351 | (Train): 0.5281\n",
      "/// Lasso ///\n",
      "Best params: {'alpha': 0.1}\n",
      "Mean Squared Error (Test): 3423.6968 | (Train): 2795.3673\n",
      "R-Squaraed (Test): 0.4244 | (Train): 0.5256\n"
     ]
    }
   ],
   "source": [
    "# Perform grid search with all 3 models and cross validation\n",
    "for i, model_info in enumerate(models_params):\n",
    "    # deploy Grid Search for model\n",
    "    GS = GridSearchCV(model_info[\"model\"], model_info.get(\"params\", {}), cv=5)\n",
    "    # Train/fit the model\n",
    "    GS.fit(X_train, y_train)\n",
    "\n",
    "    # evaluation\n",
    "    best_model = GS.best_estimator_\n",
    "    y_pred_train = best_model.predict(X_train)\n",
    "    y_pred_test = best_model.predict(X_test)\n",
    "\n",
    "    mse_test = mean_squared_error(y_test, y_pred_test)\n",
    "    mse_train = mean_squared_error(y_train, y_pred_train)\n",
    "    r2_sc_test = r2_score(y_test, y_pred_test)\n",
    "    r2_sc_train = r2_score(y_train, y_pred_train)\n",
    "\n",
    "    print(f'/// {model_info[\"name\"]} ///')\n",
    "    print(f\"Best params: {GS.best_params_}\")\n",
    "    print(f\"Mean Squared Error (Test): {mse_test:0.4f} | (Train): {mse_train:0.4f}\")\n",
    "    print(f\"R-Squaraed (Test): {r2_sc_test:0.4f} | (Train): {r2_sc_train:0.4f}\")"
   ]
  },
  {
   "cell_type": "code",
   "execution_count": null,
   "metadata": {},
   "outputs": [],
   "source": []
  }
 ],
 "metadata": {
  "kernelspec": {
   "display_name": "Python 3",
   "language": "python",
   "name": "python3"
  },
  "language_info": {
   "codemirror_mode": {
    "name": "ipython",
    "version": 3
   },
   "file_extension": ".py",
   "mimetype": "text/x-python",
   "name": "python",
   "nbconvert_exporter": "python",
   "pygments_lexer": "ipython3",
   "version": "3.12.1"
  }
 },
 "nbformat": 4,
 "nbformat_minor": 2
}
