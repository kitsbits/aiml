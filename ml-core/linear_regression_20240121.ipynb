{
 "cells": [
  {
   "cell_type": "markdown",
   "metadata": {},
   "source": [
    "# What's the difference between L1, L2, Elastic Net Regularization:\n",
    "\n",
    "- For `LinearRegression`, use `Ridge` (L2) or `Lasso` (L1) from `sklearn`\n",
    "- For other regression algos, such as `LogisticRegression`, use the penalty hyperparameter"
   ]
  },
  {
   "cell_type": "markdown",
   "metadata": {},
   "source": []
  }
 ],
 "metadata": {
  "language_info": {
   "name": "python"
  }
 },
 "nbformat": 4,
 "nbformat_minor": 2
}
