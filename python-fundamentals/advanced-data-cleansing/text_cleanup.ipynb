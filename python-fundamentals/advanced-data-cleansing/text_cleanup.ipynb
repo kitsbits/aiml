{
 "cells": [
  {
   "cell_type": "markdown",
   "metadata": {},
   "source": [
    "# Data and Text Using Pandas and RegEx\n",
    "\n",
    "Define patterns to:\n",
    "- Matching\n",
    "- Searching\n",
    "- Extraction\n",
    "- Substitution"
   ]
  },
  {
   "cell_type": "code",
   "execution_count": 5,
   "metadata": {},
   "outputs": [],
   "source": [
    "import re"
   ]
  },
  {
   "cell_type": "code",
   "execution_count": 6,
   "metadata": {},
   "outputs": [
    {
     "data": {
      "text/plain": [
       "'is'"
      ]
     },
     "execution_count": 6,
     "metadata": {},
     "output_type": "execute_result"
    }
   ],
   "source": [
    "s = 'this is a simple string'\n",
    "\n",
    "pattern = 'is'\n",
    "\n",
    "match_st = re.search(pattern,s).start()\n",
    "match_en = re.search(pattern,s).end()\n",
    "s[match_st:match_en]"
   ]
  },
  {
   "cell_type": "code",
   "execution_count": 7,
   "metadata": {},
   "outputs": [
    {
     "name": "stdout",
     "output_type": "stream",
     "text": [
      "We found  4  mateches\n"
     ]
    }
   ],
   "source": [
    "s2 = 'This is a sentence. Here is another sentence. And yet, another sentence!'\n",
    "\n",
    "pattern = 'sentence|This'\n",
    "all_stuff = re.findall(pattern, s2)\n",
    "print('We found ', len(all_stuff), ' mateches')"
   ]
  },
  {
   "cell_type": "code",
   "execution_count": 8,
   "metadata": {},
   "outputs": [
    {
     "name": "stdout",
     "output_type": "stream",
     "text": [
      "This\n",
      "sentence\n",
      "sentence\n",
      "sentence\n"
     ]
    }
   ],
   "source": [
    "for i in all_stuff:\n",
    "  print(i)"
   ]
  },
  {
   "cell_type": "code",
   "execution_count": 9,
   "metadata": {},
   "outputs": [
    {
     "data": {
      "text/plain": [
       "['kit',\n",
       " 'radbits',\n",
       " 'io',\n",
       " 'kit',\n",
       " 'masaracchia',\n",
       " 'gmail',\n",
       " 'com',\n",
       " 'me',\n",
       " 'tech',\n",
       " 'net',\n",
       " 'mark',\n",
       " 'caltech',\n",
       " 'edu',\n",
       " 'student',\n",
       " 'gmail',\n",
       " 'com']"
      ]
     },
     "execution_count": 9,
     "metadata": {},
     "output_type": "execute_result"
    }
   ],
   "source": [
    "emails = '''\n",
    "  kit@radbits.io\n",
    "  kit.masaracchia@gmail.com\n",
    "  me@tech.net\n",
    "  mark@caltech.edu\n",
    "  student@gmail.com\n",
    "'''\n",
    "\n",
    "# capture a whole work\n",
    "pattern = re.compile('\\w+')\n",
    "\n",
    "re.findall(pattern, emails)"
   ]
  },
  {
   "cell_type": "code",
   "execution_count": 10,
   "metadata": {},
   "outputs": [
    {
     "data": {
      "text/plain": [
       "['io', 'com', 'net', 'edu', 'com']"
      ]
     },
     "execution_count": 10,
     "metadata": {},
     "output_type": "execute_result"
    }
   ],
   "source": [
    "pattern = re.compile('\\w+@\\w+.(\\w+)')\n",
    "\n",
    "re.findall(pattern, emails)"
   ]
  },
  {
   "cell_type": "code",
   "execution_count": 11,
   "metadata": {},
   "outputs": [
    {
     "data": {
      "text/plain": [
       "['555-1231212', '555-6890012', '221-3367891', '366-4509987']"
      ]
     },
     "execution_count": 11,
     "metadata": {},
     "output_type": "execute_result"
    }
   ],
   "source": [
    "phone_nums = '''\n",
    "  555-1231212\n",
    "  555-6890012 Ext: 123\n",
    "  221-3367891-331\n",
    "  366-4509987\n",
    "'''\n",
    "\n",
    "# pattern = re.compile('\\d\\d\\d-\\d\\d\\d\\d\\d\\d\\d')\n",
    "pattern = re.compile('\\d{3}-\\d{7}')\n",
    "re.findall(pattern, phone_nums)"
   ]
  },
  {
   "cell_type": "code",
   "execution_count": 12,
   "metadata": {},
   "outputs": [
    {
     "data": {
      "text/plain": [
       "array(['221', '366', '555'], dtype='<U3')"
      ]
     },
     "execution_count": 12,
     "metadata": {},
     "output_type": "execute_result"
    }
   ],
   "source": [
    "# get the area code\n",
    "import numpy as np\n",
    "\n",
    "pattern = re.compile('(\\d{3})-\\d{7}')\n",
    "area_codes = np.unique(re.findall(pattern, phone_nums))\n",
    "area_codes"
   ]
  },
  {
   "cell_type": "code",
   "execution_count": 13,
   "metadata": {},
   "outputs": [
    {
     "name": "stdout",
     "output_type": "stream",
     "text": [
      "['The', 'fox', 'the', 'dog', 'The', 'dog', 'and', 'the', 'fox', 'ran']\n"
     ]
    }
   ],
   "source": [
    "text = 'The quick brown fox jumped over the lazy dog. The dog barked, and the fox ran away.'\n",
    "\n",
    "three_letters = re.compile(r'\\b\\w{3}\\b') # match three-letter words\n",
    "\n",
    "matches = re.findall(three_letters, text)\n",
    "print(matches)"
   ]
  },
  {
   "cell_type": "markdown",
   "metadata": {},
   "source": [
    "# Using RegEx with Pandas"
   ]
  },
  {
   "cell_type": "code",
   "execution_count": 14,
   "metadata": {},
   "outputs": [],
   "source": [
    "import pandas as pd"
   ]
  },
  {
   "cell_type": "code",
   "execution_count": 15,
   "metadata": {},
   "outputs": [
    {
     "data": {
      "text/plain": [
       "0    Mike\n",
       "1    Mike\n",
       "2    Will\n",
       "dtype: object"
      ]
     },
     "execution_count": 15,
     "metadata": {},
     "output_type": "execute_result"
    }
   ],
   "source": [
    "# Activate RegEx in Pandas\n",
    "\n",
    "my_list = ['Mark', 'Mark', 'Will']\n",
    "my_series = pd.Series(my_list)\n",
    "# print(my_series)\n",
    "\n",
    "# Simple replace\n",
    "my_series.replace('Mark', 'Mike')"
   ]
  },
  {
   "cell_type": "code",
   "execution_count": 16,
   "metadata": {},
   "outputs": [
    {
     "data": {
      "text/plain": [
       "0       https://google.com\n",
       "1          https://msn.com\n",
       "2          https://cnn.com\n",
       "3        http://python.org\n",
       "4    www.academymuseum.org\n",
       "dtype: object"
      ]
     },
     "execution_count": 16,
     "metadata": {},
     "output_type": "execute_result"
    }
   ],
   "source": [
    "data = pd.Series([\n",
    "  'https://google.com',\n",
    "  'https://msn.com',\n",
    "  'https://cnn.com',\n",
    "  'http://python.org',\n",
    "  'www.academymuseum.org',\n",
    "])\n",
    "data"
   ]
  },
  {
   "cell_type": "code",
   "execution_count": 17,
   "metadata": {},
   "outputs": [
    {
     "data": {
      "text/plain": [
       "0           google.com\n",
       "1              msn.com\n",
       "2              cnn.com\n",
       "3           python.org\n",
       "4    academymuseum.org\n",
       "dtype: object"
      ]
     },
     "execution_count": 17,
     "metadata": {},
     "output_type": "execute_result"
    }
   ],
   "source": [
    "domains_only = r'^(https?:\\/\\/)|(www\\.)?'\n",
    "\n",
    "urls = data.str.replace(domains_only, '', regex=True)\n",
    "urls"
   ]
  },
  {
   "cell_type": "markdown",
   "metadata": {},
   "source": [
    "# Strip: Deal with Whitespace"
   ]
  },
  {
   "cell_type": "code",
   "execution_count": 18,
   "metadata": {},
   "outputs": [
    {
     "name": "stdout",
     "output_type": "stream",
     "text": [
      "0      John Doe\n",
      "1    Mary Jones\n",
      "2    Will Smith\n",
      "dtype: object\n"
     ]
    }
   ],
   "source": [
    "data_with_space = pd.Series([\n",
    "  'John Doe ',\n",
    "  '   Mary Jones ',\n",
    "  'Will Smith    '\n",
    "])\n",
    "\n",
    "data_wo_space = data_with_space.str.strip()\n",
    "\n",
    "print(data_wo_space)"
   ]
  },
  {
   "cell_type": "code",
   "execution_count": 19,
   "metadata": {},
   "outputs": [
    {
     "data": {
      "text/html": [
       "<div>\n",
       "<style scoped>\n",
       "    .dataframe tbody tr th:only-of-type {\n",
       "        vertical-align: middle;\n",
       "    }\n",
       "\n",
       "    .dataframe tbody tr th {\n",
       "        vertical-align: top;\n",
       "    }\n",
       "\n",
       "    .dataframe thead th {\n",
       "        text-align: right;\n",
       "    }\n",
       "</style>\n",
       "<table border=\"1\" class=\"dataframe\">\n",
       "  <thead>\n",
       "    <tr style=\"text-align: right;\">\n",
       "      <th></th>\n",
       "      <th>phone</th>\n",
       "      <th>email</th>\n",
       "    </tr>\n",
       "  </thead>\n",
       "  <tbody>\n",
       "    <tr>\n",
       "      <th>0</th>\n",
       "      <td>504-845-1427</td>\n",
       "      <td>jbutt@gmail.com</td>\n",
       "    </tr>\n",
       "    <tr>\n",
       "      <th>1</th>\n",
       "      <td>810-374-9840</td>\n",
       "      <td>josephine_darakjy@darakjy.org</td>\n",
       "    </tr>\n",
       "    <tr>\n",
       "      <th>2</th>\n",
       "      <td>856-264-4130</td>\n",
       "      <td>art@venere.org</td>\n",
       "    </tr>\n",
       "    <tr>\n",
       "      <th>3</th>\n",
       "      <td>907-921-2010</td>\n",
       "      <td>lpaprocki@hotmail.com</td>\n",
       "    </tr>\n",
       "    <tr>\n",
       "      <th>4</th>\n",
       "      <td>513-549-4561</td>\n",
       "      <td>donette.foller@cox.net</td>\n",
       "    </tr>\n",
       "  </tbody>\n",
       "</table>\n",
       "</div>"
      ],
      "text/plain": [
       "          phone                          email\n",
       "0  504-845-1427                jbutt@gmail.com\n",
       "1  810-374-9840  josephine_darakjy@darakjy.org\n",
       "2  856-264-4130                 art@venere.org\n",
       "3  907-921-2010          lpaprocki@hotmail.com\n",
       "4  513-549-4561         donette.foller@cox.net"
      ]
     },
     "execution_count": 19,
     "metadata": {},
     "output_type": "execute_result"
    }
   ],
   "source": [
    "df_contacts = pd.read_csv('./contacts_email_phone.csv')\n",
    "df_contacts.head()\n",
    "# df_contacts.shape"
   ]
  },
  {
   "cell_type": "code",
   "execution_count": 20,
   "metadata": {},
   "outputs": [],
   "source": [
    "first_dot_last = df_contacts['email'].str.split('@').str[0].str.contains('\\.')\n",
    "df_dot = df_contacts[first_dot_last]\n",
    "# df_dot.shape\n"
   ]
  },
  {
   "cell_type": "code",
   "execution_count": 21,
   "metadata": {},
   "outputs": [
    {
     "name": "stderr",
     "output_type": "stream",
     "text": [
      "/var/folders/cz/9yq4nxkn2wq92xfr_4fymfv00000gn/T/ipykernel_73567/1431549108.py:1: SettingWithCopyWarning: \n",
      "A value is trying to be set on a copy of a slice from a DataFrame\n",
      "\n",
      "See the caveats in the documentation: https://pandas.pydata.org/pandas-docs/stable/user_guide/indexing.html#returning-a-view-versus-a-copy\n",
      "  df_dot.loc['FirstName', 'LastName'] = df_dot['email'].str.split('@').str[0].str.split('.', expand=True)\n"
     ]
    },
    {
     "data": {
      "text/html": [
       "<div>\n",
       "<style scoped>\n",
       "    .dataframe tbody tr th:only-of-type {\n",
       "        vertical-align: middle;\n",
       "    }\n",
       "\n",
       "    .dataframe tbody tr th {\n",
       "        vertical-align: top;\n",
       "    }\n",
       "\n",
       "    .dataframe thead th {\n",
       "        text-align: right;\n",
       "    }\n",
       "</style>\n",
       "<table border=\"1\" class=\"dataframe\">\n",
       "  <thead>\n",
       "    <tr style=\"text-align: right;\">\n",
       "      <th></th>\n",
       "      <th>phone</th>\n",
       "      <th>email</th>\n",
       "      <th>LastName</th>\n",
       "    </tr>\n",
       "  </thead>\n",
       "  <tbody>\n",
       "    <tr>\n",
       "      <th>4</th>\n",
       "      <td>513-549-4561</td>\n",
       "      <td>donette.foller@cox.net</td>\n",
       "      <td>NaN</td>\n",
       "    </tr>\n",
       "    <tr>\n",
       "      <th>12</th>\n",
       "      <td>310-254-3084</td>\n",
       "      <td>kiley.caldarera@aol.com</td>\n",
       "      <td>NaN</td>\n",
       "    </tr>\n",
       "    <tr>\n",
       "      <th>17</th>\n",
       "      <td>414-377-2880</td>\n",
       "      <td>gladys.rim@rim.org</td>\n",
       "      <td>NaN</td>\n",
       "    </tr>\n",
       "    <tr>\n",
       "      <th>19</th>\n",
       "      <td>815-426-5657</td>\n",
       "      <td>fletcher.flosi@yahoo.com</td>\n",
       "      <td>NaN</td>\n",
       "    </tr>\n",
       "    <tr>\n",
       "      <th>26</th>\n",
       "      <td>913-899-1103</td>\n",
       "      <td>chanel.caudy@caudy.org</td>\n",
       "      <td>NaN</td>\n",
       "    </tr>\n",
       "    <tr>\n",
       "      <th>37</th>\n",
       "      <td>805-609-1531</td>\n",
       "      <td>rozella.ostrosky@ostrosky.com</td>\n",
       "      <td>NaN</td>\n",
       "    </tr>\n",
       "    <tr>\n",
       "      <th>39</th>\n",
       "      <td>785-219-7724</td>\n",
       "      <td>kati.rulapaugh@hotmail.com</td>\n",
       "      <td>NaN</td>\n",
       "    </tr>\n",
       "    <tr>\n",
       "      <th>44</th>\n",
       "      <td>907-227-6777</td>\n",
       "      <td>erick.ferencz@aol.com</td>\n",
       "      <td>NaN</td>\n",
       "    </tr>\n",
       "    <tr>\n",
       "      <th>48</th>\n",
       "      <td>608-658-7940</td>\n",
       "      <td>emerson.bowley@bowley.org</td>\n",
       "      <td>NaN</td>\n",
       "    </tr>\n",
       "    <tr>\n",
       "      <th>58</th>\n",
       "      <td>401-559-8961</td>\n",
       "      <td>delmy.ahle@hotmail.com</td>\n",
       "      <td>NaN</td>\n",
       "    </tr>\n",
       "    <tr>\n",
       "      <th>68</th>\n",
       "      <td>410-937-4543</td>\n",
       "      <td>ilene.eroman@hotmail.com</td>\n",
       "      <td>NaN</td>\n",
       "    </tr>\n",
       "    <tr>\n",
       "      <th>70</th>\n",
       "      <td>415-604-7609</td>\n",
       "      <td>kallie.blackwood@gmail.com</td>\n",
       "      <td>NaN</td>\n",
       "    </tr>\n",
       "    <tr>\n",
       "      <th>77</th>\n",
       "      <td>973-847-9611</td>\n",
       "      <td>delisa.crupi@crupi.com</td>\n",
       "      <td>NaN</td>\n",
       "    </tr>\n",
       "    <tr>\n",
       "      <th>78</th>\n",
       "      <td>773-352-3437</td>\n",
       "      <td>viva.toelkes@gmail.com</td>\n",
       "      <td>NaN</td>\n",
       "    </tr>\n",
       "    <tr>\n",
       "      <th>83</th>\n",
       "      <td>510-901-7640</td>\n",
       "      <td>dominque.dickerson@dickerson.org</td>\n",
       "      <td>NaN</td>\n",
       "    </tr>\n",
       "    <tr>\n",
       "      <th>87</th>\n",
       "      <td>847-957-4614</td>\n",
       "      <td>lai.gato@gato.org</td>\n",
       "      <td>NaN</td>\n",
       "    </tr>\n",
       "    <tr>\n",
       "      <th>91</th>\n",
       "      <td>626-696-2777</td>\n",
       "      <td>cory.gibes@gmail.com</td>\n",
       "      <td>NaN</td>\n",
       "    </tr>\n",
       "    <tr>\n",
       "      <th>94</th>\n",
       "      <td>408-440-8447</td>\n",
       "      <td>elvera.benimadho@cox.net</td>\n",
       "      <td>NaN</td>\n",
       "    </tr>\n",
       "    <tr>\n",
       "      <th>96</th>\n",
       "      <td>317-472-2412</td>\n",
       "      <td>malinda.hochard@yahoo.com</td>\n",
       "      <td>NaN</td>\n",
       "    </tr>\n",
       "    <tr>\n",
       "      <th>97</th>\n",
       "      <td>307-279-3793</td>\n",
       "      <td>natalie.fern@hotmail.com</td>\n",
       "      <td>NaN</td>\n",
       "    </tr>\n",
       "    <tr>\n",
       "      <th>FirstName</th>\n",
       "      <td>NaN</td>\n",
       "      <td>NaN</td>\n",
       "      <td>NaN</td>\n",
       "    </tr>\n",
       "  </tbody>\n",
       "</table>\n",
       "</div>"
      ],
      "text/plain": [
       "                  phone                             email LastName\n",
       "4          513-549-4561            donette.foller@cox.net      NaN\n",
       "12         310-254-3084           kiley.caldarera@aol.com      NaN\n",
       "17         414-377-2880                gladys.rim@rim.org      NaN\n",
       "19         815-426-5657          fletcher.flosi@yahoo.com      NaN\n",
       "26         913-899-1103            chanel.caudy@caudy.org      NaN\n",
       "37         805-609-1531     rozella.ostrosky@ostrosky.com      NaN\n",
       "39         785-219-7724        kati.rulapaugh@hotmail.com      NaN\n",
       "44         907-227-6777             erick.ferencz@aol.com      NaN\n",
       "48         608-658-7940         emerson.bowley@bowley.org      NaN\n",
       "58         401-559-8961            delmy.ahle@hotmail.com      NaN\n",
       "68         410-937-4543          ilene.eroman@hotmail.com      NaN\n",
       "70         415-604-7609        kallie.blackwood@gmail.com      NaN\n",
       "77         973-847-9611            delisa.crupi@crupi.com      NaN\n",
       "78         773-352-3437            viva.toelkes@gmail.com      NaN\n",
       "83         510-901-7640  dominque.dickerson@dickerson.org      NaN\n",
       "87         847-957-4614                 lai.gato@gato.org      NaN\n",
       "91         626-696-2777              cory.gibes@gmail.com      NaN\n",
       "94         408-440-8447          elvera.benimadho@cox.net      NaN\n",
       "96         317-472-2412         malinda.hochard@yahoo.com      NaN\n",
       "97         307-279-3793          natalie.fern@hotmail.com      NaN\n",
       "FirstName           NaN                               NaN      NaN"
      ]
     },
     "execution_count": 21,
     "metadata": {},
     "output_type": "execute_result"
    }
   ],
   "source": [
    "df_dot.loc['FirstName', 'LastName'] = df_dot['email'].str.split('@').str[0].str.split('.', expand=True)\n",
    "df_dot"
   ]
  },
  {
   "cell_type": "code",
   "execution_count": 22,
   "metadata": {},
   "outputs": [],
   "source": [
    "# Try to parse firstname.lastname out of email addresses\n",
    "# how_many = r'^(\\w+\\.\\w+)?'\n"
   ]
  },
  {
   "cell_type": "markdown",
   "metadata": {},
   "source": [
    "# Putting it all together\n",
    "\n",
    "The BEST $mvie ever made about writer's block and one of the scariest tales ever made regarding cabin fever, \n",
    "The Shining took a simple concept of a      haunted hotel and built it ~up into an unforgettable, \n",
    "psychological ^horror mvie that will withstand the test of \n",
    "time despite being slated by it's original creator. scary mvie ---!!!!"
   ]
  },
  {
   "cell_type": "code",
   "execution_count": 51,
   "metadata": {},
   "outputs": [
    {
     "name": "stdout",
     "output_type": "stream",
     "text": [
      "The BEST $mvie ever made about writer's block and one of the scariest tales ever made regarding cabin fever, \n",
      "The Shining took a simple concept of a      haunted hotel and built it ~up into an unforgettable, \n",
      "psychological ^horror mvie that will withstand the test of \n",
      "time despite being slated by it's original creator. scary mvie ---!!!!\n"
     ]
    }
   ],
   "source": [
    "f = open('./regex_test.txt')\n",
    "messy = f.read()\n",
    "print(messy)"
   ]
  },
  {
   "cell_type": "code",
   "execution_count": 32,
   "metadata": {},
   "outputs": [
    {
     "data": {
      "text/plain": [
       "[]"
      ]
     },
     "execution_count": 32,
     "metadata": {},
     "output_type": "execute_result"
    }
   ],
   "source": [
    "# re.findall('\\$mvie', messy)"
   ]
  },
  {
   "cell_type": "code",
   "execution_count": 56,
   "metadata": {},
   "outputs": [
    {
     "name": "stdout",
     "output_type": "stream",
     "text": [
      "The BEST movie ever made about writer's block and one of the scariest tales ever made regarding cabin fever,The Shining took a simple concept of ahaunted hotel and built it up into an unforgettable,psychological horror movie that will withstand the test oftime despite being slated by it's original creator. scary movie \n"
     ]
    }
   ],
   "source": [
    "# Replace\n",
    "messy = re.sub('mvie', 'movie', messy)\n",
    "# messy = re.sub(r'\\n', '', messy)\n",
    "print(messy)"
   ]
  },
  {
   "cell_type": "code",
   "execution_count": 55,
   "metadata": {},
   "outputs": [
    {
     "name": "stdout",
     "output_type": "stream",
     "text": [
      "The BEST mvie ever made about writer's block and one of the scariest tales ever made regarding cabin fever,The Shining took a simple concept of ahaunted hotel and built it up into an unforgettable,psychological horror mvie that will withstand the test oftime despite being slated by it's original creator. scary mvie \n"
     ]
    }
   ],
   "source": [
    "# Remove unwanted characters\n",
    "messy = re.sub(r'[^a-zA-Z0-9\\s\\'\\,\\.]', '', messy)\n",
    "print(messy)"
   ]
  },
  {
   "cell_type": "code",
   "execution_count": 57,
   "metadata": {},
   "outputs": [
    {
     "name": "stdout",
     "output_type": "stream",
     "text": [
      "The BEST movie ever made about writer's block and one of the scariest tales ever made regarding cabin fever,The Shining took a simple concept of ahaunted hotel and built it up into an unforgettable,psychological horror movie that will withstand the test oftime despite being slated by it's original creator. scary movie \n"
     ]
    }
   ],
   "source": [
    "# Remove the big'ol space\n",
    "messy = re.sub(r'\\s\\s+', ' ', messy)\n",
    "print(messy)"
   ]
  }
 ],
 "metadata": {
  "kernelspec": {
   "display_name": "Python 3",
   "language": "python",
   "name": "python3"
  },
  "language_info": {
   "codemirror_mode": {
    "name": "ipython",
    "version": 3
   },
   "file_extension": ".py",
   "mimetype": "text/x-python",
   "name": "python",
   "nbconvert_exporter": "python",
   "pygments_lexer": "ipython3",
   "version": "3.10.10"
  }
 },
 "nbformat": 4,
 "nbformat_minor": 2
}
