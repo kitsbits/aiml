{
 "cells": [
  {
   "cell_type": "code",
   "execution_count": 2,
   "metadata": {},
   "outputs": [],
   "source": [
    "import uuid"
   ]
  },
  {
   "cell_type": "code",
   "execution_count": 23,
   "metadata": {},
   "outputs": [
    {
     "name": "stdout",
     "output_type": "stream",
     "text": [
      "Welcome to my online store! Please login\n",
      "Welcome, Jane\n",
      "You are an admin and can create products and categories. You can also add and remove products and check out your cart.\n"
     ]
    }
   ],
   "source": [
    "class User:\n",
    "    def __init__(self, first_name, last_name, username, password, role):\n",
    "        self.id = uuid.uuid1()\n",
    "        self.first_name = first_name\n",
    "        self.last_name = last_name\n",
    "        self.username = username\n",
    "        self.password = password\n",
    "        self.role = role\n",
    "\n",
    "    def check_password(self, password):\n",
    "        return password == self.password\n",
    "\n",
    "\n",
    "def initialize_users():\n",
    "    admin = User(\n",
    "        first_name=\"Jane\",\n",
    "        last_name=\"Doe\",\n",
    "        username=\"jane@example.com\",\n",
    "        password=\"jane123\",\n",
    "        role=\"admin\",\n",
    "    )\n",
    "\n",
    "    user = User(\n",
    "        first_name=\"John\",\n",
    "        last_name=\"Beau\",\n",
    "        username=\"john@example.com\",\n",
    "        password=\"john123\",\n",
    "        role=\"user\",\n",
    "    )\n",
    "\n",
    "    users = {user.username: user, admin.username: admin}\n",
    "    return users\n",
    "\n",
    "\n",
    "users = initialize_users()\n",
    "# print(users[\"jane@example.com\"].first_name)\n",
    "# print(admin.first_name, user.first_name)\n",
    "\n",
    "logged_in_user = None\n",
    "\n",
    "\n",
    "def login_user():\n",
    "    username = input(prompt=\"Username\")\n",
    "    password = input(prompt=\"Password\")\n",
    "\n",
    "    try:\n",
    "        user_exists = username in users\n",
    "        valid_user = users[username].check_password(password) if user_exists else False\n",
    "\n",
    "        if valid_user:\n",
    "            logged_in_user = users[username]\n",
    "            is_admin = logged_in_user.role == \"admin\"\n",
    "            print(f\"Welcome, {logged_in_user.first_name}\")\n",
    "            if is_admin:\n",
    "                print(\n",
    "                    \"You are an admin and can create products and categories. You can also add and remove products and check out your cart.\"\n",
    "                )\n",
    "            else:\n",
    "                print(\n",
    "                    \"You are a user and can add and remove products and check out your cart.\"\n",
    "                )\n",
    "        else:\n",
    "            print(\n",
    "                \"Sorry, we were not able to log you in with those credentials. Would you like to try again?\"\n",
    "            )\n",
    "            try_again = input(\"Login again? Y (Yes) or N (No)\")\n",
    "            if try_again == \"Y\" or try_again == \"y\":\n",
    "                login_user()\n",
    "    except:\n",
    "        print(\"There was an error logging you in. Would you like to try again?\")\n",
    "        try_again = input(\"Login again? Y (Yes) or N (No)\")\n",
    "        if try_again == \"Y\" or try_again == \"y\":\n",
    "            login_user()\n",
    "\n",
    "\n",
    "categories = [\n",
    "    {\"id\": \"cat1\", \"name\": \"Shoes\"},\n",
    "    {\"id\": \"cat2\", \"name\": \"Jackets\"},\n",
    "    {\"id\": \"cat3\", \"name\": \"Hats\"},\n",
    "    {\"id\": \"cat4\", \"name\": \"Featured\"},\n",
    "]\n",
    "\n",
    "products = [\n",
    "    {\"id\": 111, \"price\": 88, \"name\": \"High Tops\", \"categories\": [\"cat1\", \"cat4\"]},\n",
    "    {\"id\": 112, \"price\": 105, \"name\": \"Overcoat\", \"categories\": [\"cat2\"]},\n",
    "    {\"id\": 113, \"price\": 22, \"name\": \"Beanie\", \"categories\": [\"cat3\", \"cat4\"]},\n",
    "    {\"id\": 114, \"price\": 125, \"name\": \"Trainers\", \"categories\": [\"cat1\"]},\n",
    "]\n",
    "\n",
    "\n",
    "def create_product():\n",
    "    price = int(input(\"Input the price as a whole number\"))\n",
    "    name = input(\"Input product name\")\n",
    "    cat_names = list[input()]\n",
    "\n",
    "\n",
    "print(\"Welcome to my online store! Please login\")\n",
    "login_user()"
   ]
  },
  {
   "cell_type": "code",
   "execution_count": 4,
   "metadata": {},
   "outputs": [
    {
     "name": "stdout",
     "output_type": "stream",
     "text": [
      "john@example.com w3356&\n"
     ]
    }
   ],
   "source": [
    "\n"
   ]
  },
  {
   "cell_type": "code",
   "execution_count": null,
   "metadata": {},
   "outputs": [],
   "source": []
  }
 ],
 "metadata": {
  "kernelspec": {
   "display_name": "Python 3",
   "language": "python",
   "name": "python3"
  },
  "language_info": {
   "codemirror_mode": {
    "name": "ipython",
    "version": 3
   },
   "file_extension": ".py",
   "mimetype": "text/x-python",
   "name": "python",
   "nbconvert_exporter": "python",
   "pygments_lexer": "ipython3",
   "version": "3.10.10"
  }
 },
 "nbformat": 4,
 "nbformat_minor": 2
}
