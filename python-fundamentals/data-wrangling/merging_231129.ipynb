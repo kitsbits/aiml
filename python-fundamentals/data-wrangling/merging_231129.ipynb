{
 "cells": [
  {
   "cell_type": "markdown",
   "metadata": {},
   "source": [
    "- import the attached datasets (Table1 and Table2) hint: table1 = pd.read_excel('datasets/Health_Outcomes_merge.xlsx', sheet_name='Table1') second sheet: Table2\n",
    "- inspect the shape of each dataset\n",
    "- merge the 2 datasets using an inner join and call it inner_join_df -  document your observation (find the common columns)\n",
    "- merge the 2 datasets using an outer join and document your observations\n",
    "- merge the 2 datasets using a left join and document your observations\n",
    "- Use the inner_join_df and rename the date column to record_date\n",
    "- Build a histogram for each column (inner_join_df)\n",
    "- Build a new dataset (call it my_summary) where BMI is greater than 23 and Diet is greater than 19"
   ]
  },
  {
   "cell_type": "code",
   "execution_count": 3,
   "metadata": {},
   "outputs": [],
   "source": [
    "import pandas as pd"
   ]
  },
  {
   "cell_type": "code",
   "execution_count": 14,
   "metadata": {},
   "outputs": [],
   "source": [
    "table1 = pd.read_excel('./Health_Outcomes_merge.xlsx', sheet_name='Table1')\n",
    "table2 = pd.read_excel('./Health_Outcomes_merge.xlsx', sheet_name='Table2')"
   ]
  },
  {
   "cell_type": "code",
   "execution_count": 8,
   "metadata": {},
   "outputs": [
    {
     "data": {
      "text/plain": [
       "Index(['PersonID', 'Diet', 'Exercise', 'Sleep', 'Date'], dtype='object')"
      ]
     },
     "execution_count": 8,
     "metadata": {},
     "output_type": "execute_result"
    }
   ],
   "source": [
    "# table1.shape\n",
    "# table1.columns"
   ]
  },
  {
   "cell_type": "code",
   "execution_count": 9,
   "metadata": {},
   "outputs": [
    {
     "data": {
      "text/html": [
       "<div>\n",
       "<style scoped>\n",
       "    .dataframe tbody tr th:only-of-type {\n",
       "        vertical-align: middle;\n",
       "    }\n",
       "\n",
       "    .dataframe tbody tr th {\n",
       "        vertical-align: top;\n",
       "    }\n",
       "\n",
       "    .dataframe thead th {\n",
       "        text-align: right;\n",
       "    }\n",
       "</style>\n",
       "<table border=\"1\" class=\"dataframe\">\n",
       "  <thead>\n",
       "    <tr style=\"text-align: right;\">\n",
       "      <th></th>\n",
       "      <th>PersonID</th>\n",
       "      <th>Diet</th>\n",
       "      <th>Exercise</th>\n",
       "      <th>Sleep</th>\n",
       "      <th>Date</th>\n",
       "    </tr>\n",
       "  </thead>\n",
       "  <tbody>\n",
       "    <tr>\n",
       "      <th>0</th>\n",
       "      <td>AT71637</td>\n",
       "      <td>26</td>\n",
       "      <td>94</td>\n",
       "      <td>6</td>\n",
       "      <td>2023-03-03</td>\n",
       "    </tr>\n",
       "    <tr>\n",
       "      <th>1</th>\n",
       "      <td>AT95706</td>\n",
       "      <td>25</td>\n",
       "      <td>55</td>\n",
       "      <td>7</td>\n",
       "      <td>2023-03-10</td>\n",
       "    </tr>\n",
       "    <tr>\n",
       "      <th>2</th>\n",
       "      <td>AT74132</td>\n",
       "      <td>18</td>\n",
       "      <td>42</td>\n",
       "      <td>8</td>\n",
       "      <td>2023-03-16</td>\n",
       "    </tr>\n",
       "    <tr>\n",
       "      <th>3</th>\n",
       "      <td>AT233295</td>\n",
       "      <td>15</td>\n",
       "      <td>52</td>\n",
       "      <td>8</td>\n",
       "      <td>2023-03-24</td>\n",
       "    </tr>\n",
       "    <tr>\n",
       "      <th>4</th>\n",
       "      <td>AT104243</td>\n",
       "      <td>24</td>\n",
       "      <td>94</td>\n",
       "      <td>7</td>\n",
       "      <td>2023-03-30</td>\n",
       "    </tr>\n",
       "  </tbody>\n",
       "</table>\n",
       "</div>"
      ],
      "text/plain": [
       "   PersonID  Diet  Exercise  Sleep       Date\n",
       "0   AT71637    26        94      6 2023-03-03\n",
       "1   AT95706    25        55      7 2023-03-10\n",
       "2   AT74132    18        42      8 2023-03-16\n",
       "3  AT233295    15        52      8 2023-03-24\n",
       "4  AT104243    24        94      7 2023-03-30"
      ]
     },
     "execution_count": 9,
     "metadata": {},
     "output_type": "execute_result"
    }
   ],
   "source": [
    "table1.head()"
   ]
  },
  {
   "cell_type": "code",
   "execution_count": 11,
   "metadata": {},
   "outputs": [
    {
     "data": {
      "text/plain": [
       "PersonID            object\n",
       "Diet                 int64\n",
       "Exercise             int64\n",
       "Sleep                int64\n",
       "Date        datetime64[ns]\n",
       "dtype: object"
      ]
     },
     "execution_count": 11,
     "metadata": {},
     "output_type": "execute_result"
    }
   ],
   "source": [
    "table1.dtypes"
   ]
  },
  {
   "cell_type": "code",
   "execution_count": 15,
   "metadata": {},
   "outputs": [
    {
     "data": {
      "text/html": [
       "<div>\n",
       "<style scoped>\n",
       "    .dataframe tbody tr th:only-of-type {\n",
       "        vertical-align: middle;\n",
       "    }\n",
       "\n",
       "    .dataframe tbody tr th {\n",
       "        vertical-align: top;\n",
       "    }\n",
       "\n",
       "    .dataframe thead th {\n",
       "        text-align: right;\n",
       "    }\n",
       "</style>\n",
       "<table border=\"1\" class=\"dataframe\">\n",
       "  <thead>\n",
       "    <tr style=\"text-align: right;\">\n",
       "      <th></th>\n",
       "      <th>PersonID</th>\n",
       "      <th>BMI</th>\n",
       "      <th>Cholesterol</th>\n",
       "      <th>BloodPressure</th>\n",
       "      <th>Date</th>\n",
       "    </tr>\n",
       "  </thead>\n",
       "  <tbody>\n",
       "    <tr>\n",
       "      <th>0</th>\n",
       "      <td>AT71637</td>\n",
       "      <td>23</td>\n",
       "      <td>190</td>\n",
       "      <td>139</td>\n",
       "      <td>2023-03-03</td>\n",
       "    </tr>\n",
       "    <tr>\n",
       "      <th>1</th>\n",
       "      <td>AT95706</td>\n",
       "      <td>26</td>\n",
       "      <td>193</td>\n",
       "      <td>151</td>\n",
       "      <td>2023-03-10</td>\n",
       "    </tr>\n",
       "    <tr>\n",
       "      <th>2</th>\n",
       "      <td>AT74132</td>\n",
       "      <td>32</td>\n",
       "      <td>249</td>\n",
       "      <td>134</td>\n",
       "      <td>2023-03-16</td>\n",
       "    </tr>\n",
       "    <tr>\n",
       "      <th>3</th>\n",
       "      <td>AT233295</td>\n",
       "      <td>30</td>\n",
       "      <td>180</td>\n",
       "      <td>130</td>\n",
       "      <td>2023-03-24</td>\n",
       "    </tr>\n",
       "    <tr>\n",
       "      <th>4</th>\n",
       "      <td>AT104243</td>\n",
       "      <td>28</td>\n",
       "      <td>216</td>\n",
       "      <td>101</td>\n",
       "      <td>2023-03-30</td>\n",
       "    </tr>\n",
       "  </tbody>\n",
       "</table>\n",
       "</div>"
      ],
      "text/plain": [
       "   PersonID  BMI  Cholesterol  BloodPressure       Date\n",
       "0   AT71637   23          190            139 2023-03-03\n",
       "1   AT95706   26          193            151 2023-03-10\n",
       "2   AT74132   32          249            134 2023-03-16\n",
       "3  AT233295   30          180            130 2023-03-24\n",
       "4  AT104243   28          216            101 2023-03-30"
      ]
     },
     "execution_count": 15,
     "metadata": {},
     "output_type": "execute_result"
    }
   ],
   "source": [
    "table2.head()"
   ]
  },
  {
   "cell_type": "code",
   "execution_count": 17,
   "metadata": {},
   "outputs": [
    {
     "data": {
      "text/plain": [
       "(57, 5)"
      ]
     },
     "execution_count": 17,
     "metadata": {},
     "output_type": "execute_result"
    }
   ],
   "source": [
    "# table2.shape\n",
    "# table1.shape"
   ]
  },
  {
   "cell_type": "code",
   "execution_count": 19,
   "metadata": {},
   "outputs": [
    {
     "data": {
      "text/plain": [
       "PersonID          True\n",
       "BMI              False\n",
       "Cholesterol      False\n",
       "BloodPressure    False\n",
       "Date              True\n",
       "dtype: bool"
      ]
     },
     "execution_count": 19,
     "metadata": {},
     "output_type": "execute_result"
    }
   ],
   "source": [
    "# table1.nunique() == len(table1)\n",
    "table2.nunique() == len(table2)"
   ]
  },
  {
   "cell_type": "code",
   "execution_count": 27,
   "metadata": {},
   "outputs": [
    {
     "data": {
      "text/plain": [
       "0"
      ]
     },
     "execution_count": 27,
     "metadata": {},
     "output_type": "execute_result"
    }
   ],
   "source": [
    "table2.duplicated().sum()"
   ]
  },
  {
   "cell_type": "code",
   "execution_count": 20,
   "metadata": {},
   "outputs": [],
   "source": [
    "inner_join_df = pd.merge(table1, table2, how='inner', on=['PersonID', 'Date'])"
   ]
  },
  {
   "cell_type": "code",
   "execution_count": 23,
   "metadata": {},
   "outputs": [
    {
     "data": {
      "text/plain": [
       "(48, 8)"
      ]
     },
     "execution_count": 23,
     "metadata": {},
     "output_type": "execute_result"
    }
   ],
   "source": [
    "# inner_join_df.head()\n",
    "inner_join_df.shape"
   ]
  },
  {
   "cell_type": "code",
   "execution_count": 28,
   "metadata": {},
   "outputs": [
    {
     "data": {
      "text/plain": [
       "0"
      ]
     },
     "execution_count": 28,
     "metadata": {},
     "output_type": "execute_result"
    }
   ],
   "source": [
    "inner_join_df.duplicated().sum()"
   ]
  },
  {
   "cell_type": "code",
   "execution_count": 22,
   "metadata": {},
   "outputs": [
    {
     "data": {
      "text/plain": [
       "PersonID         0\n",
       "Diet             0\n",
       "Exercise         0\n",
       "Sleep            0\n",
       "Date             0\n",
       "BMI              0\n",
       "Cholesterol      0\n",
       "BloodPressure    0\n",
       "dtype: int64"
      ]
     },
     "execution_count": 22,
     "metadata": {},
     "output_type": "execute_result"
    }
   ],
   "source": [
    "inner_join_df.isna().sum()"
   ]
  },
  {
   "cell_type": "code",
   "execution_count": 29,
   "metadata": {},
   "outputs": [
    {
     "data": {
      "text/html": [
       "<div>\n",
       "<style scoped>\n",
       "    .dataframe tbody tr th:only-of-type {\n",
       "        vertical-align: middle;\n",
       "    }\n",
       "\n",
       "    .dataframe tbody tr th {\n",
       "        vertical-align: top;\n",
       "    }\n",
       "\n",
       "    .dataframe thead th {\n",
       "        text-align: right;\n",
       "    }\n",
       "</style>\n",
       "<table border=\"1\" class=\"dataframe\">\n",
       "  <thead>\n",
       "    <tr style=\"text-align: right;\">\n",
       "      <th></th>\n",
       "      <th>PersonID</th>\n",
       "      <th>Diet</th>\n",
       "      <th>Exercise</th>\n",
       "      <th>Sleep</th>\n",
       "      <th>Date</th>\n",
       "      <th>BMI</th>\n",
       "      <th>Cholesterol</th>\n",
       "      <th>BloodPressure</th>\n",
       "    </tr>\n",
       "  </thead>\n",
       "  <tbody>\n",
       "    <tr>\n",
       "      <th>0</th>\n",
       "      <td>AT71637</td>\n",
       "      <td>26.0</td>\n",
       "      <td>94.0</td>\n",
       "      <td>6.0</td>\n",
       "      <td>2023-03-03</td>\n",
       "      <td>23.0</td>\n",
       "      <td>190.0</td>\n",
       "      <td>139.0</td>\n",
       "    </tr>\n",
       "    <tr>\n",
       "      <th>1</th>\n",
       "      <td>AT95706</td>\n",
       "      <td>25.0</td>\n",
       "      <td>55.0</td>\n",
       "      <td>7.0</td>\n",
       "      <td>2023-03-10</td>\n",
       "      <td>26.0</td>\n",
       "      <td>193.0</td>\n",
       "      <td>151.0</td>\n",
       "    </tr>\n",
       "    <tr>\n",
       "      <th>2</th>\n",
       "      <td>AT74132</td>\n",
       "      <td>18.0</td>\n",
       "      <td>42.0</td>\n",
       "      <td>8.0</td>\n",
       "      <td>2023-03-16</td>\n",
       "      <td>32.0</td>\n",
       "      <td>249.0</td>\n",
       "      <td>134.0</td>\n",
       "    </tr>\n",
       "    <tr>\n",
       "      <th>3</th>\n",
       "      <td>AT233295</td>\n",
       "      <td>15.0</td>\n",
       "      <td>52.0</td>\n",
       "      <td>8.0</td>\n",
       "      <td>2023-03-24</td>\n",
       "      <td>30.0</td>\n",
       "      <td>180.0</td>\n",
       "      <td>130.0</td>\n",
       "    </tr>\n",
       "    <tr>\n",
       "      <th>4</th>\n",
       "      <td>AT104243</td>\n",
       "      <td>24.0</td>\n",
       "      <td>94.0</td>\n",
       "      <td>7.0</td>\n",
       "      <td>2023-03-30</td>\n",
       "      <td>28.0</td>\n",
       "      <td>216.0</td>\n",
       "      <td>101.0</td>\n",
       "    </tr>\n",
       "  </tbody>\n",
       "</table>\n",
       "</div>"
      ],
      "text/plain": [
       "   PersonID  Diet  Exercise  Sleep       Date   BMI  Cholesterol  \\\n",
       "0   AT71637  26.0      94.0    6.0 2023-03-03  23.0        190.0   \n",
       "1   AT95706  25.0      55.0    7.0 2023-03-10  26.0        193.0   \n",
       "2   AT74132  18.0      42.0    8.0 2023-03-16  32.0        249.0   \n",
       "3  AT233295  15.0      52.0    8.0 2023-03-24  30.0        180.0   \n",
       "4  AT104243  24.0      94.0    7.0 2023-03-30  28.0        216.0   \n",
       "\n",
       "   BloodPressure  \n",
       "0          139.0  \n",
       "1          151.0  \n",
       "2          134.0  \n",
       "3          130.0  \n",
       "4          101.0  "
      ]
     },
     "execution_count": 29,
     "metadata": {},
     "output_type": "execute_result"
    }
   ],
   "source": [
    "outer_join_df = pd.merge(table1, table2, how=\"outer\", on=['PersonID', 'Date'])\n",
    "outer_join_df.head()"
   ]
  },
  {
   "cell_type": "code",
   "execution_count": 30,
   "metadata": {},
   "outputs": [
    {
     "data": {
      "text/plain": [
       "(62, 8)"
      ]
     },
     "execution_count": 30,
     "metadata": {},
     "output_type": "execute_result"
    }
   ],
   "source": [
    "outer_join_df.shape"
   ]
  },
  {
   "cell_type": "code",
   "execution_count": 31,
   "metadata": {},
   "outputs": [
    {
     "data": {
      "text/html": [
       "<div>\n",
       "<style scoped>\n",
       "    .dataframe tbody tr th:only-of-type {\n",
       "        vertical-align: middle;\n",
       "    }\n",
       "\n",
       "    .dataframe tbody tr th {\n",
       "        vertical-align: top;\n",
       "    }\n",
       "\n",
       "    .dataframe thead th {\n",
       "        text-align: right;\n",
       "    }\n",
       "</style>\n",
       "<table border=\"1\" class=\"dataframe\">\n",
       "  <thead>\n",
       "    <tr style=\"text-align: right;\">\n",
       "      <th></th>\n",
       "      <th>PersonID</th>\n",
       "      <th>Diet</th>\n",
       "      <th>Exercise</th>\n",
       "      <th>Sleep</th>\n",
       "      <th>Date</th>\n",
       "      <th>BMI</th>\n",
       "      <th>Cholesterol</th>\n",
       "      <th>BloodPressure</th>\n",
       "    </tr>\n",
       "  </thead>\n",
       "  <tbody>\n",
       "    <tr>\n",
       "      <th>9</th>\n",
       "      <td>AT176840</td>\n",
       "      <td>15.0</td>\n",
       "      <td>77.0</td>\n",
       "      <td>8.0</td>\n",
       "      <td>2023-05-03</td>\n",
       "      <td>NaN</td>\n",
       "      <td>NaN</td>\n",
       "      <td>NaN</td>\n",
       "    </tr>\n",
       "    <tr>\n",
       "      <th>10</th>\n",
       "      <td>AT132447</td>\n",
       "      <td>21.0</td>\n",
       "      <td>82.0</td>\n",
       "      <td>8.0</td>\n",
       "      <td>2023-05-11</td>\n",
       "      <td>NaN</td>\n",
       "      <td>NaN</td>\n",
       "      <td>NaN</td>\n",
       "    </tr>\n",
       "    <tr>\n",
       "      <th>11</th>\n",
       "      <td>AT256140</td>\n",
       "      <td>14.0</td>\n",
       "      <td>43.0</td>\n",
       "      <td>6.0</td>\n",
       "      <td>2023-05-19</td>\n",
       "      <td>NaN</td>\n",
       "      <td>NaN</td>\n",
       "      <td>NaN</td>\n",
       "    </tr>\n",
       "    <tr>\n",
       "      <th>12</th>\n",
       "      <td>AT116982</td>\n",
       "      <td>17.0</td>\n",
       "      <td>57.0</td>\n",
       "      <td>8.0</td>\n",
       "      <td>2023-05-26</td>\n",
       "      <td>NaN</td>\n",
       "      <td>NaN</td>\n",
       "      <td>NaN</td>\n",
       "    </tr>\n",
       "    <tr>\n",
       "      <th>13</th>\n",
       "      <td>AT154588</td>\n",
       "      <td>14.0</td>\n",
       "      <td>49.0</td>\n",
       "      <td>6.0</td>\n",
       "      <td>2023-06-03</td>\n",
       "      <td>NaN</td>\n",
       "      <td>NaN</td>\n",
       "      <td>NaN</td>\n",
       "    </tr>\n",
       "    <tr>\n",
       "      <th>14</th>\n",
       "      <td>AT23949</td>\n",
       "      <td>14.0</td>\n",
       "      <td>78.0</td>\n",
       "      <td>6.0</td>\n",
       "      <td>2023-06-09</td>\n",
       "      <td>NaN</td>\n",
       "      <td>NaN</td>\n",
       "      <td>NaN</td>\n",
       "    </tr>\n",
       "    <tr>\n",
       "      <th>15</th>\n",
       "      <td>AT49973</td>\n",
       "      <td>23.0</td>\n",
       "      <td>37.0</td>\n",
       "      <td>7.0</td>\n",
       "      <td>2023-06-16</td>\n",
       "      <td>NaN</td>\n",
       "      <td>NaN</td>\n",
       "      <td>NaN</td>\n",
       "    </tr>\n",
       "    <tr>\n",
       "      <th>16</th>\n",
       "      <td>AT197445</td>\n",
       "      <td>15.0</td>\n",
       "      <td>74.0</td>\n",
       "      <td>8.0</td>\n",
       "      <td>2023-06-23</td>\n",
       "      <td>NaN</td>\n",
       "      <td>NaN</td>\n",
       "      <td>NaN</td>\n",
       "    </tr>\n",
       "    <tr>\n",
       "      <th>17</th>\n",
       "      <td>AT174156</td>\n",
       "      <td>22.0</td>\n",
       "      <td>88.0</td>\n",
       "      <td>8.0</td>\n",
       "      <td>2023-06-30</td>\n",
       "      <td>NaN</td>\n",
       "      <td>NaN</td>\n",
       "      <td>NaN</td>\n",
       "    </tr>\n",
       "    <tr>\n",
       "      <th>57</th>\n",
       "      <td>AT43596</td>\n",
       "      <td>NaN</td>\n",
       "      <td>NaN</td>\n",
       "      <td>NaN</td>\n",
       "      <td>2024-04-04</td>\n",
       "      <td>27.0</td>\n",
       "      <td>240.0</td>\n",
       "      <td>126.0</td>\n",
       "    </tr>\n",
       "    <tr>\n",
       "      <th>58</th>\n",
       "      <td>AT170537</td>\n",
       "      <td>NaN</td>\n",
       "      <td>NaN</td>\n",
       "      <td>NaN</td>\n",
       "      <td>2024-04-10</td>\n",
       "      <td>25.0</td>\n",
       "      <td>222.0</td>\n",
       "      <td>174.0</td>\n",
       "    </tr>\n",
       "    <tr>\n",
       "      <th>59</th>\n",
       "      <td>AT181464</td>\n",
       "      <td>NaN</td>\n",
       "      <td>NaN</td>\n",
       "      <td>NaN</td>\n",
       "      <td>2024-04-16</td>\n",
       "      <td>23.0</td>\n",
       "      <td>223.0</td>\n",
       "      <td>143.0</td>\n",
       "    </tr>\n",
       "    <tr>\n",
       "      <th>60</th>\n",
       "      <td>AT110797</td>\n",
       "      <td>NaN</td>\n",
       "      <td>NaN</td>\n",
       "      <td>NaN</td>\n",
       "      <td>2024-04-22</td>\n",
       "      <td>27.0</td>\n",
       "      <td>219.0</td>\n",
       "      <td>116.0</td>\n",
       "    </tr>\n",
       "    <tr>\n",
       "      <th>61</th>\n",
       "      <td>AT128728</td>\n",
       "      <td>NaN</td>\n",
       "      <td>NaN</td>\n",
       "      <td>NaN</td>\n",
       "      <td>2024-04-28</td>\n",
       "      <td>26.0</td>\n",
       "      <td>196.0</td>\n",
       "      <td>172.0</td>\n",
       "    </tr>\n",
       "  </tbody>\n",
       "</table>\n",
       "</div>"
      ],
      "text/plain": [
       "    PersonID  Diet  Exercise  Sleep       Date   BMI  Cholesterol  \\\n",
       "9   AT176840  15.0      77.0    8.0 2023-05-03   NaN          NaN   \n",
       "10  AT132447  21.0      82.0    8.0 2023-05-11   NaN          NaN   \n",
       "11  AT256140  14.0      43.0    6.0 2023-05-19   NaN          NaN   \n",
       "12  AT116982  17.0      57.0    8.0 2023-05-26   NaN          NaN   \n",
       "13  AT154588  14.0      49.0    6.0 2023-06-03   NaN          NaN   \n",
       "14   AT23949  14.0      78.0    6.0 2023-06-09   NaN          NaN   \n",
       "15   AT49973  23.0      37.0    7.0 2023-06-16   NaN          NaN   \n",
       "16  AT197445  15.0      74.0    8.0 2023-06-23   NaN          NaN   \n",
       "17  AT174156  22.0      88.0    8.0 2023-06-30   NaN          NaN   \n",
       "57   AT43596   NaN       NaN    NaN 2024-04-04  27.0        240.0   \n",
       "58  AT170537   NaN       NaN    NaN 2024-04-10  25.0        222.0   \n",
       "59  AT181464   NaN       NaN    NaN 2024-04-16  23.0        223.0   \n",
       "60  AT110797   NaN       NaN    NaN 2024-04-22  27.0        219.0   \n",
       "61  AT128728   NaN       NaN    NaN 2024-04-28  26.0        196.0   \n",
       "\n",
       "    BloodPressure  \n",
       "9             NaN  \n",
       "10            NaN  \n",
       "11            NaN  \n",
       "12            NaN  \n",
       "13            NaN  \n",
       "14            NaN  \n",
       "15            NaN  \n",
       "16            NaN  \n",
       "17            NaN  \n",
       "57          126.0  \n",
       "58          174.0  \n",
       "59          143.0  \n",
       "60          116.0  \n",
       "61          172.0  "
      ]
     },
     "execution_count": 31,
     "metadata": {},
     "output_type": "execute_result"
    }
   ],
   "source": [
    "outer_join_df[outer_join_df.isnull().any(axis=1)]"
   ]
  },
  {
   "cell_type": "code",
   "execution_count": 32,
   "metadata": {},
   "outputs": [
    {
     "data": {
      "text/plain": [
       "(57, 8)"
      ]
     },
     "execution_count": 32,
     "metadata": {},
     "output_type": "execute_result"
    }
   ],
   "source": [
    "left_join_df = pd.merge(table1, table2, how=\"left\", on=[\"PersonID\", \"Date\"])\n",
    "left_join_df.shape"
   ]
  },
  {
   "cell_type": "code",
   "execution_count": 34,
   "metadata": {},
   "outputs": [
    {
     "data": {
      "text/plain": [
       "Index(['PersonID', 'Diet', 'Exercise', 'Sleep', 'record_date', 'BMI',\n",
       "       'Cholesterol', 'BloodPressure'],\n",
       "      dtype='object')"
      ]
     },
     "execution_count": 34,
     "metadata": {},
     "output_type": "execute_result"
    }
   ],
   "source": [
    "# record_date\n",
    "inner_join_df = inner_join_df.rename(columns={\n",
    "  \"Date\": \"record_date\"\n",
    "})\n",
    "inner_join_df.columns"
   ]
  },
  {
   "cell_type": "code",
   "execution_count": 40,
   "metadata": {},
   "outputs": [
    {
     "data": {
      "text/plain": [
       "array([[<Axes: title={'center': 'Diet'}>,\n",
       "        <Axes: title={'center': 'Exercise'}>],\n",
       "       [<Axes: title={'center': 'Sleep'}>,\n",
       "        <Axes: title={'center': 'BMI'}>],\n",
       "       [<Axes: title={'center': 'Cholesterol'}>,\n",
       "        <Axes: title={'center': 'BloodPressure'}>]], dtype=object)"
      ]
     },
     "execution_count": 40,
     "metadata": {},
     "output_type": "execute_result"
    },
    {
     "data": {
      "image/png": "[encoded data removed]",
      "text/plain": [
       "<Figure size 800x800 with 6 Axes>"
      ]
     },
     "metadata": {},
     "output_type": "display_data"
    }
   ],
   "source": [
    "inner_join_df[['Diet', 'Exercise', 'Sleep', 'BMI',\n",
    "       'Cholesterol', 'BloodPressure']].hist(figsize=(8,8))"
   ]
  },
  {
   "cell_type": "code",
   "execution_count": 45,
   "metadata": {},
   "outputs": [
    {
     "data": {
      "text/html": [
       "<div>\n",
       "<style scoped>\n",
       "    .dataframe tbody tr th:only-of-type {\n",
       "        vertical-align: middle;\n",
       "    }\n",
       "\n",
       "    .dataframe tbody tr th {\n",
       "        vertical-align: top;\n",
       "    }\n",
       "\n",
       "    .dataframe thead th {\n",
       "        text-align: right;\n",
       "    }\n",
       "</style>\n",
       "<table border=\"1\" class=\"dataframe\">\n",
       "  <thead>\n",
       "    <tr style=\"text-align: right;\">\n",
       "      <th></th>\n",
       "      <th>PersonID</th>\n",
       "      <th>Diet</th>\n",
       "      <th>Exercise</th>\n",
       "      <th>Sleep</th>\n",
       "      <th>record_date</th>\n",
       "      <th>BMI</th>\n",
       "      <th>Cholesterol</th>\n",
       "      <th>BloodPressure</th>\n",
       "    </tr>\n",
       "  </thead>\n",
       "  <tbody>\n",
       "    <tr>\n",
       "      <th>1</th>\n",
       "      <td>AT95706</td>\n",
       "      <td>25</td>\n",
       "      <td>55</td>\n",
       "      <td>7</td>\n",
       "      <td>2023-03-10</td>\n",
       "      <td>26</td>\n",
       "      <td>193</td>\n",
       "      <td>151</td>\n",
       "    </tr>\n",
       "    <tr>\n",
       "      <th>4</th>\n",
       "      <td>AT104243</td>\n",
       "      <td>24</td>\n",
       "      <td>94</td>\n",
       "      <td>7</td>\n",
       "      <td>2023-03-30</td>\n",
       "      <td>28</td>\n",
       "      <td>216</td>\n",
       "      <td>101</td>\n",
       "    </tr>\n",
       "    <tr>\n",
       "      <th>10</th>\n",
       "      <td>AT122014</td>\n",
       "      <td>24</td>\n",
       "      <td>89</td>\n",
       "      <td>6</td>\n",
       "      <td>2023-07-14</td>\n",
       "      <td>28</td>\n",
       "      <td>259</td>\n",
       "      <td>140</td>\n",
       "    </tr>\n",
       "    <tr>\n",
       "      <th>11</th>\n",
       "      <td>AT185052</td>\n",
       "      <td>22</td>\n",
       "      <td>36</td>\n",
       "      <td>6</td>\n",
       "      <td>2023-07-21</td>\n",
       "      <td>29</td>\n",
       "      <td>217</td>\n",
       "      <td>125</td>\n",
       "    </tr>\n",
       "    <tr>\n",
       "      <th>13</th>\n",
       "      <td>AT64864</td>\n",
       "      <td>26</td>\n",
       "      <td>48</td>\n",
       "      <td>8</td>\n",
       "      <td>2023-08-05</td>\n",
       "      <td>31</td>\n",
       "      <td>259</td>\n",
       "      <td>171</td>\n",
       "    </tr>\n",
       "  </tbody>\n",
       "</table>\n",
       "</div>"
      ],
      "text/plain": [
       "    PersonID  Diet  Exercise  Sleep record_date  BMI  Cholesterol  \\\n",
       "1    AT95706    25        55      7  2023-03-10   26          193   \n",
       "4   AT104243    24        94      7  2023-03-30   28          216   \n",
       "10  AT122014    24        89      6  2023-07-14   28          259   \n",
       "11  AT185052    22        36      6  2023-07-21   29          217   \n",
       "13   AT64864    26        48      8  2023-08-05   31          259   \n",
       "\n",
       "    BloodPressure  \n",
       "1             151  \n",
       "4             101  \n",
       "10            140  \n",
       "11            125  \n",
       "13            171  "
      ]
     },
     "execution_count": 45,
     "metadata": {},
     "output_type": "execute_result"
    }
   ],
   "source": [
    "# Build a new dataset (call it my_summary)\n",
    "# where BMI is greater than 23 and Diet is greater than 19\n",
    "\n",
    "mask = (inner_join_df['BMI'] > 23) & (inner_join_df['Diet'] > 19)\n",
    "my_summary = inner_join_df[mask]\n",
    "my_summary.head()\n",
    "# my_summary.shape\n"
   ]
  },
  {
   "cell_type": "markdown",
   "metadata": {},
   "source": [
    "## Observations\n",
    "- Found two unique columns: PersonID, Date to merge on\n",
    "- Did a check for null values and found none\n",
    "- Found that inner_join_df has fewer rows than the sum of table1 + table2 because NaN values caused those rows to be dropped\n",
    "- outer_join_df has all the rows with data from all the columns, padding columns with NaN if there is no value\n",
    "- left_join_df has the same number of rows as table1, dropping rows that are not present in table2\n",
    "- Used Pandas default `hist()` function\n",
    "- Histograms alone leave us with more questions than answers, as we don't know yet how any of these varliables interact with each other"
   ]
  }
 ],
 "metadata": {
  "kernelspec": {
   "display_name": "Python 3",
   "language": "python",
   "name": "python3"
  },
  "language_info": {
   "codemirror_mode": {
    "name": "ipython",
    "version": 3
   },
   "file_extension": ".py",
   "mimetype": "text/x-python",
   "name": "python",
   "nbconvert_exporter": "python",
   "pygments_lexer": "ipython3",
   "version": "3.10.10"
  }
 },
 "nbformat": 4,
 "nbformat_minor": 2
}
